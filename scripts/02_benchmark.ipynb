{
 "cells": [
  {
   "cell_type": "code",
   "execution_count": 1,
   "id": "979c9035-d82e-4941-ba3a-6c7beb078f84",
   "metadata": {
    "tags": []
   },
   "outputs": [],
   "source": [
    "import pandas as pd\n",
    "import sys\n",
    "import os\n",
    "import os.path\n",
    "from pathlib import Path\n",
    "import numpy as np\n",
    "import sklearn\n",
    "from sklearn.model_selection import StratifiedKFold\n",
    "from sklearn.model_selection import cross_val_score\n",
    "from sklearn.model_selection import GridSearchCV\n",
    "from sklearn.model_selection import KFold\n",
    "from sklearn.model_selection import train_test_split\n",
    "from sklearn.metrics import make_scorer\n",
    "from sklearn.preprocessing import OneHotEncoder\n",
    "from sklearn.compose import make_column_transformer\n",
    "from scipy.stats import pearsonr\n",
    "#import matplotlib.pyplot as plt\n",
    "from sklearn.pipeline import make_pipeline\n",
    "import joblib\n",
    "import json\n",
    "import sys\n",
    "import math\n",
    "os.chdir('/home/rstudio/emtpb')\n",
    "sys.path.append('/home/rstudio/emtpb')"
   ]
  },
  {
   "cell_type": "code",
   "execution_count": 29,
   "id": "4016b7df-0f32-49fb-b2de-57422bcfc45a",
   "metadata": {
    "tags": []
   },
   "outputs": [],
   "source": [
    "EMTscores = pd.read_csv(\"metadata/EMTscores.csv\")\n",
    "cancertypes = np.concatenate((['PANCAN'], EMTscores['TCGA Desc'].unique()))"
   ]
  },
  {
   "cell_type": "code",
   "execution_count": 30,
   "id": "084f1b6b-0175-463a-b768-83181c589eed",
   "metadata": {
    "tags": []
   },
   "outputs": [
    {
     "data": {
      "text/plain": [
       "array(['PANCAN', 'ALL', 'BLCA', 'BRCA', 'CESC', 'COREAD', 'DLBC', 'ESCA',\n",
       "       'GBM', 'HNSC', 'KIRC', 'LAML', 'LCML', 'LGG', 'LIHC', 'LUAD',\n",
       "       'LUSC', 'MESO', 'MM', 'NB', 'OV', 'PAAD', 'PRAD', 'SCLC', 'SKCM',\n",
       "       'STAD', 'THCA', 'UCEC'], dtype=object)"
      ]
     },
     "execution_count": 30,
     "metadata": {},
     "output_type": "execute_result"
    }
   ],
   "source": [
    "cancertypes"
   ]
  },
  {
   "cell_type": "code",
   "execution_count": 22,
   "id": "f241dc96-6c5b-4f35-8dd3-16f3a9806def",
   "metadata": {
    "tags": []
   },
   "outputs": [
    {
     "name": "stdout",
     "output_type": "stream",
     "text": [
      "0\n"
     ]
    }
   ],
   "source": [
    "# use one parameter dict\n",
    "if len(sys.argv)!=2:\n",
    "    argument = ['-',1]\n",
    "else:\n",
    "    print('cmd entry:', sys.argv)\n",
    "    argument = sys.argv\n",
    "which_run = int(argument[1]) - 1\n",
    "print(which_run)\n",
    "\n",
    "# test run\n",
    "which_run = np.where(cancertypes == \"SKCM\")[0][0]"
   ]
  },
  {
   "cell_type": "code",
   "execution_count": 41,
   "id": "42434400-61c3-4e5a-a357-6f92535cc110",
   "metadata": {
    "tags": []
   },
   "outputs": [],
   "source": [
    "mut = pd.read_csv(\"metadata/matrix_mut_\"+cancertypes[which_run][0]+\".csv\")\n",
    "resp = pd.read_csv(\"metadata/matrix_resp.csv\")\n"
   ]
  },
  {
   "cell_type": "code",
   "execution_count": 46,
   "id": "862053ee-cc23-43e4-b0eb-8ebc2107e686",
   "metadata": {
    "tags": []
   },
   "outputs": [
    {
     "data": {
      "text/html": [
       "<div>\n",
       "<style scoped>\n",
       "    .dataframe tbody tr th:only-of-type {\n",
       "        vertical-align: middle;\n",
       "    }\n",
       "\n",
       "    .dataframe tbody tr th {\n",
       "        vertical-align: top;\n",
       "    }\n",
       "\n",
       "    .dataframe thead th {\n",
       "        text-align: right;\n",
       "    }\n",
       "</style>\n",
       "<table border=\"1\" class=\"dataframe\">\n",
       "  <thead>\n",
       "    <tr style=\"text-align: right;\">\n",
       "      <th></th>\n",
       "      <th>1559-GDSC2</th>\n",
       "      <th>COSMIC ID</th>\n",
       "    </tr>\n",
       "  </thead>\n",
       "  <tbody>\n",
       "    <tr>\n",
       "      <th>0</th>\n",
       "      <td>-3.008253</td>\n",
       "      <td>684057</td>\n",
       "    </tr>\n",
       "    <tr>\n",
       "      <th>1</th>\n",
       "      <td>-2.410498</td>\n",
       "      <td>684059</td>\n",
       "    </tr>\n",
       "    <tr>\n",
       "      <th>2</th>\n",
       "      <td>-3.287634</td>\n",
       "      <td>684062</td>\n",
       "    </tr>\n",
       "    <tr>\n",
       "      <th>3</th>\n",
       "      <td>-3.059194</td>\n",
       "      <td>684072</td>\n",
       "    </tr>\n",
       "    <tr>\n",
       "      <th>4</th>\n",
       "      <td>-0.424890</td>\n",
       "      <td>687448</td>\n",
       "    </tr>\n",
       "    <tr>\n",
       "      <th>...</th>\n",
       "      <td>...</td>\n",
       "      <td>...</td>\n",
       "    </tr>\n",
       "    <tr>\n",
       "      <th>973</th>\n",
       "      <td>-3.480219</td>\n",
       "      <td>946366</td>\n",
       "    </tr>\n",
       "    <tr>\n",
       "      <th>974</th>\n",
       "      <td>0.398795</td>\n",
       "      <td>1330975</td>\n",
       "    </tr>\n",
       "    <tr>\n",
       "      <th>975</th>\n",
       "      <td>-0.487178</td>\n",
       "      <td>1331055</td>\n",
       "    </tr>\n",
       "    <tr>\n",
       "      <th>976</th>\n",
       "      <td>-1.183432</td>\n",
       "      <td>1503373</td>\n",
       "    </tr>\n",
       "    <tr>\n",
       "      <th>977</th>\n",
       "      <td>-1.138664</td>\n",
       "      <td>1659929</td>\n",
       "    </tr>\n",
       "  </tbody>\n",
       "</table>\n",
       "<p>978 rows × 2 columns</p>\n",
       "</div>"
      ],
      "text/plain": [
       "     1559-GDSC2  COSMIC ID\n",
       "0     -3.008253     684057\n",
       "1     -2.410498     684059\n",
       "2     -3.287634     684062\n",
       "3     -3.059194     684072\n",
       "4     -0.424890     687448\n",
       "..          ...        ...\n",
       "973   -3.480219     946366\n",
       "974    0.398795    1330975\n",
       "975   -0.487178    1331055\n",
       "976   -1.183432    1503373\n",
       "977   -1.138664    1659929\n",
       "\n",
       "[978 rows x 2 columns]"
      ]
     },
     "execution_count": 46,
     "metadata": {},
     "output_type": "execute_result"
    }
   ],
   "source": [
    "resp[[\"1559-GDSC2\",\"COSMIC ID\"]]"
   ]
  },
  {
   "cell_type": "code",
   "execution_count": 96,
   "id": "7747dfce-dde8-4450-81f8-90e07feae76d",
   "metadata": {
    "tags": []
   },
   "outputs": [],
   "source": [
    "from sklearn.preprocessing import StandardScaler\n",
    "\n",
    "cols = resp.columns[resp.columns.str.contains('GDSC')]\n",
    "index = np.where(cols == \"1559-GDSC2\")[0][0]\n",
    "\n",
    "resp = resp[[\"COSMIC ID\",\"TCGA Desc\",cols[index]]]\n",
    "mat = pd.merge(EMTscores, resp, how='outer')\n",
    "mat = mat[mat['TCGA Desc'] == cancertypes[which_run][0]]\n",
    "mat = pd.merge(mat, mut, how='outer')\n",
    "mat.drop(columns=['COSMIC ID'], inplace=True)\n",
    "mat = pd.get_dummies(mat)\n",
    "mat_df = mat\n",
    "scale = StandardScaler()\n",
    "mat = scale.fit_transform(mat)"
   ]
  },
  {
   "cell_type": "code",
   "execution_count": 98,
   "id": "171c6c61-31b3-460e-b137-c535039cfd6a",
   "metadata": {
    "tags": []
   },
   "outputs": [
    {
     "name": "stdout",
     "output_type": "stream",
     "text": [
      "done !!!!!!!!!\n"
     ]
    }
   ],
   "source": [
    "# benchmark \n",
    "print(\"done !!!!!!!!!\")\n"
   ]
  },
  {
   "cell_type": "code",
   "execution_count": null,
   "id": "a9653646-c07f-42d4-823d-52851faaff48",
   "metadata": {
    "tags": []
   },
   "outputs": [],
   "source": []
  },
  {
   "cell_type": "code",
   "execution_count": null,
   "id": "ad43b280-6f49-459c-9c42-75ecb333ea62",
   "metadata": {},
   "outputs": [],
   "source": []
  }
 ],
 "metadata": {
  "kernelspec": {
   "display_name": "Python 3 (ipykernel)",
   "language": "python",
   "name": "python3"
  },
  "language_info": {
   "codemirror_mode": {
    "name": "ipython",
    "version": 3
   },
   "file_extension": ".py",
   "mimetype": "text/x-python",
   "name": "python",
   "nbconvert_exporter": "python",
   "pygments_lexer": "ipython3",
   "version": "3.8.10"
  }
 },
 "nbformat": 4,
 "nbformat_minor": 5
}
